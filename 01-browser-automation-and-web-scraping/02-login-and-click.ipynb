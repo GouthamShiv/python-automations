{
 "cells": [
  {
   "cell_type": "code",
   "execution_count": 1,
   "metadata": {},
   "outputs": [
    {
     "name": "stdout",
     "output_type": "stream",
     "text": [
      "http://automated.pythonanywhere.com/\n"
     ]
    }
   ],
   "source": [
    "from selenium import webdriver\n",
    "from selenium.webdriver.common.keys import Keys\n",
    "import time\n",
    "\n",
    "def get_driver():\n",
    "  # Setting driver options for selenium browse easily\n",
    "  driver_options = webdriver.ChromeOptions()\n",
    "  driver_options.add_argument(\"disable-infobars\") # To disable top info bar in the browser which will help the script to function better.\n",
    "  driver_options.add_argument(\"start-maximized\")  # To open the browser in full screen, so that the page that loads is consistent.\n",
    "  driver_options.add_argument(\"disable-dev-shm-usage\")  # To avoid issues that come with interacting with the browsers that run on a linux env.\n",
    "  driver_options.add_argument(\"no-sandbox\") # To ensure we have all the privileges for our script to have on a webpage.\n",
    "  # Below options are to avoid selenium from getting detected by the browser.\n",
    "  driver_options.add_experimental_option(\"excludeSwitches\", [\"enable-automation\"])\n",
    "  driver_options.add_argument(\"disable-blink-features=AutomationControlled\")\n",
    "\n",
    "  driver = webdriver.Chrome(options=driver_options, executable_path=\"../chromedriver\")\n",
    "  driver.get(\"http://automated.pythonanywhere.com/login/\")\n",
    "\n",
    "  return driver\n",
    "\n",
    "def main():\n",
    "  driver = get_driver()\n",
    "\n",
    "  driver.find_element(by=\"id\", value=\"id_username\").send_keys(\"automated\")\n",
    "  time.sleep(2)\n",
    "  driver.find_element(by=\"id\", value=\"id_password\").send_keys(\"automatedautomated\" + Keys.RETURN)\n",
    "  time.sleep(2)\n",
    "  driver.find_element(by=\"xpath\", value=\"/html/body/nav/div/a\").click()\n",
    "  return driver.current_url\n",
    "\n",
    "print(main())\n"
   ]
  }
 ],
 "metadata": {
  "kernelspec": {
   "display_name": "Python 3.8.2 ('automations')",
   "language": "python",
   "name": "python3"
  },
  "language_info": {
   "codemirror_mode": {
    "name": "ipython",
    "version": 3
   },
   "file_extension": ".py",
   "mimetype": "text/x-python",
   "name": "python",
   "nbconvert_exporter": "python",
   "pygments_lexer": "ipython3",
   "version": "3.8.13"
  },
  "orig_nbformat": 4,
  "vscode": {
   "interpreter": {
    "hash": "88353346868d030af10badec1eed52888f33d02b33dbe387f8b6db9faa1a8649"
   }
  }
 },
 "nbformat": 4,
 "nbformat_minor": 2
}
